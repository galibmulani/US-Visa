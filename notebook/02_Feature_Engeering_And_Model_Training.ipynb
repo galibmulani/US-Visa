{
 "cells": [
  {
   "cell_type": "markdown",
   "id": "e68feab4",
   "metadata": {},
   "source": [
    "##### Data Preprocessing\n",
    "**Import Packages and CSV**"
   ]
  },
  {
   "cell_type": "code",
   "execution_count": 51,
   "id": "85664d86",
   "metadata": {},
   "outputs": [
    {
     "name": "stdout",
     "output_type": "stream",
     "text": [
      "(25480, 12)\n"
     ]
    }
   ],
   "source": [
    "import pandas as pd\n",
    "import numpy as np\n",
    "import matplotlib.pyplot as plt\n",
    "import seaborn as sns\n",
    "import warnings\n",
    "warnings.filterwarnings(\"ignore\")\n",
    "pd.set_option('display.max_columns',None)\n",
    "df =  pd.read_csv(\"Visadataset.csv\")\n",
    "print(df.shape)"
   ]
  },
  {
   "cell_type": "markdown",
   "id": "160df62a",
   "metadata": {},
   "source": [
    "#### Data Cleaning:\n",
    "**Handling Missing Values**\n",
    "\n",
    "- Handling Missing Values\n",
    "- Handling Duplicates.\n",
    "- Remove irrelevant features\n",
    "- check Datatypes.\n",
    "- Understand the dataset"
   ]
  },
  {
   "cell_type": "markdown",
   "id": "965a555c",
   "metadata": {},
   "source": [
    "#### 3.1 Check Null Values"
   ]
  },
  {
   "cell_type": "code",
   "execution_count": 52,
   "id": "5d1f228e",
   "metadata": {},
   "outputs": [],
   "source": [
    "features_with_na_values = [features for features in df.columns if df[features].isnull().sum()>=1]\n",
    "for feat in features_with_na_values:\n",
    "    print(feat,np.round(df[feat].isnull().mean()*100,5),'% missing values')"
   ]
  },
  {
   "cell_type": "code",
   "execution_count": 53,
   "id": "4d0d1dc6",
   "metadata": {},
   "outputs": [
    {
     "data": {
      "text/plain": [
       "[]"
      ]
     },
     "execution_count": 53,
     "metadata": {},
     "output_type": "execute_result"
    }
   ],
   "source": [
    "features_with_na_values"
   ]
  },
  {
   "cell_type": "markdown",
   "id": "db94d7b1",
   "metadata": {},
   "source": [
    "#### 3.2 Check Duplicates"
   ]
  },
  {
   "cell_type": "code",
   "execution_count": 54,
   "id": "a98b769d",
   "metadata": {},
   "outputs": [
    {
     "data": {
      "text/plain": [
       "np.int64(0)"
      ]
     },
     "execution_count": 54,
     "metadata": {},
     "output_type": "execute_result"
    }
   ],
   "source": [
    "df.duplicated().sum()"
   ]
  },
  {
   "cell_type": "code",
   "execution_count": 55,
   "id": "55f3ac15",
   "metadata": {},
   "outputs": [
    {
     "data": {
      "text/plain": [
       "no_of_employees  yr_of_estab  prevailing_wage\n",
       "-26              1923         5247.3200          1\n",
       "                 1954         81982.2700         1\n",
       "                 1968         168.1558           1\n",
       "                 1996         37397.0500         1\n",
       "                 2004         84359.9800         1\n",
       "                                                ..\n",
       " 547172          1838         22859.2200         1\n",
       " 579004          1969         103507.0100        1\n",
       " 581468          1984         41397.5200         1\n",
       " 594472          1887         87144.2000         1\n",
       " 602069          2011         25181.6300         1\n",
       "Name: count, Length: 25480, dtype: int64"
      ]
     },
     "execution_count": 55,
     "metadata": {},
     "output_type": "execute_result"
    }
   ],
   "source": [
    "df[['no_of_employees','yr_of_estab','prevailing_wage']].value_counts()"
   ]
  },
  {
   "cell_type": "code",
   "execution_count": 56,
   "id": "3de3c9cb",
   "metadata": {},
   "outputs": [
    {
     "data": {
      "text/html": [
       "<div>\n",
       "<style scoped>\n",
       "    .dataframe tbody tr th:only-of-type {\n",
       "        vertical-align: middle;\n",
       "    }\n",
       "\n",
       "    .dataframe tbody tr th {\n",
       "        vertical-align: top;\n",
       "    }\n",
       "\n",
       "    .dataframe thead th {\n",
       "        text-align: right;\n",
       "    }\n",
       "</style>\n",
       "<table border=\"1\" class=\"dataframe\">\n",
       "  <thead>\n",
       "    <tr style=\"text-align: right;\">\n",
       "      <th></th>\n",
       "      <th>case_id</th>\n",
       "      <th>continent</th>\n",
       "      <th>education_of_employee</th>\n",
       "      <th>has_job_experience</th>\n",
       "      <th>requires_job_training</th>\n",
       "      <th>no_of_employees</th>\n",
       "      <th>yr_of_estab</th>\n",
       "      <th>region_of_employment</th>\n",
       "      <th>prevailing_wage</th>\n",
       "      <th>unit_of_wage</th>\n",
       "      <th>full_time_position</th>\n",
       "      <th>case_status</th>\n",
       "    </tr>\n",
       "  </thead>\n",
       "  <tbody>\n",
       "    <tr>\n",
       "      <th>3043</th>\n",
       "      <td>EZYV3044</td>\n",
       "      <td>North America</td>\n",
       "      <td>Doctorate</td>\n",
       "      <td>Y</td>\n",
       "      <td>N</td>\n",
       "      <td>802</td>\n",
       "      <td>2000</td>\n",
       "      <td>West</td>\n",
       "      <td>109585.81</td>\n",
       "      <td>Year</td>\n",
       "      <td>Y</td>\n",
       "      <td>Certified</td>\n",
       "    </tr>\n",
       "    <tr>\n",
       "      <th>3172</th>\n",
       "      <td>EZYV3173</td>\n",
       "      <td>Asia</td>\n",
       "      <td>Bachelor's</td>\n",
       "      <td>N</td>\n",
       "      <td>N</td>\n",
       "      <td>802</td>\n",
       "      <td>2000</td>\n",
       "      <td>Midwest</td>\n",
       "      <td>112499.63</td>\n",
       "      <td>Year</td>\n",
       "      <td>Y</td>\n",
       "      <td>Denied</td>\n",
       "    </tr>\n",
       "    <tr>\n",
       "      <th>14306</th>\n",
       "      <td>EZYV14307</td>\n",
       "      <td>Europe</td>\n",
       "      <td>High School</td>\n",
       "      <td>N</td>\n",
       "      <td>N</td>\n",
       "      <td>802</td>\n",
       "      <td>2000</td>\n",
       "      <td>Northeast</td>\n",
       "      <td>24821.87</td>\n",
       "      <td>Year</td>\n",
       "      <td>Y</td>\n",
       "      <td>Denied</td>\n",
       "    </tr>\n",
       "    <tr>\n",
       "      <th>19887</th>\n",
       "      <td>EZYV19888</td>\n",
       "      <td>Asia</td>\n",
       "      <td>Bachelor's</td>\n",
       "      <td>N</td>\n",
       "      <td>N</td>\n",
       "      <td>802</td>\n",
       "      <td>2000</td>\n",
       "      <td>South</td>\n",
       "      <td>147219.69</td>\n",
       "      <td>Year</td>\n",
       "      <td>Y</td>\n",
       "      <td>Certified</td>\n",
       "    </tr>\n",
       "  </tbody>\n",
       "</table>\n",
       "</div>"
      ],
      "text/plain": [
       "         case_id      continent education_of_employee has_job_experience  \\\n",
       "3043    EZYV3044  North America             Doctorate                  Y   \n",
       "3172    EZYV3173           Asia            Bachelor's                  N   \n",
       "14306  EZYV14307         Europe           High School                  N   \n",
       "19887  EZYV19888           Asia            Bachelor's                  N   \n",
       "\n",
       "      requires_job_training  no_of_employees  yr_of_estab  \\\n",
       "3043                      N              802         2000   \n",
       "3172                      N              802         2000   \n",
       "14306                     N              802         2000   \n",
       "19887                     N              802         2000   \n",
       "\n",
       "      region_of_employment  prevailing_wage unit_of_wage full_time_position  \\\n",
       "3043                  West        109585.81         Year                  Y   \n",
       "3172               Midwest        112499.63         Year                  Y   \n",
       "14306            Northeast         24821.87         Year                  Y   \n",
       "19887                South        147219.69         Year                  Y   \n",
       "\n",
       "      case_status  \n",
       "3043    Certified  \n",
       "3172       Denied  \n",
       "14306      Denied  \n",
       "19887   Certified  "
      ]
     },
     "execution_count": 56,
     "metadata": {},
     "output_type": "execute_result"
    }
   ],
   "source": [
    "df[(df['yr_of_estab']==2000)&(df['no_of_employees']==802)] # 2000 and 802"
   ]
  },
  {
   "cell_type": "markdown",
   "id": "684d637e",
   "metadata": {},
   "source": [
    "**Dataset contains any duplicate records**"
   ]
  },
  {
   "cell_type": "markdown",
   "id": "d4d06be7",
   "metadata": {},
   "source": [
    "##### 3.3 Remove Irrelevant features\n",
    "- case_id : This feature will not be required for further model building. "
   ]
  },
  {
   "cell_type": "code",
   "execution_count": 57,
   "id": "545e1103",
   "metadata": {},
   "outputs": [
    {
     "data": {
      "text/html": [
       "<div>\n",
       "<style scoped>\n",
       "    .dataframe tbody tr th:only-of-type {\n",
       "        vertical-align: middle;\n",
       "    }\n",
       "\n",
       "    .dataframe tbody tr th {\n",
       "        vertical-align: top;\n",
       "    }\n",
       "\n",
       "    .dataframe thead th {\n",
       "        text-align: right;\n",
       "    }\n",
       "</style>\n",
       "<table border=\"1\" class=\"dataframe\">\n",
       "  <thead>\n",
       "    <tr style=\"text-align: right;\">\n",
       "      <th></th>\n",
       "      <th>continent</th>\n",
       "      <th>education_of_employee</th>\n",
       "      <th>has_job_experience</th>\n",
       "      <th>requires_job_training</th>\n",
       "      <th>no_of_employees</th>\n",
       "      <th>yr_of_estab</th>\n",
       "      <th>region_of_employment</th>\n",
       "      <th>prevailing_wage</th>\n",
       "      <th>unit_of_wage</th>\n",
       "      <th>full_time_position</th>\n",
       "      <th>case_status</th>\n",
       "    </tr>\n",
       "  </thead>\n",
       "  <tbody>\n",
       "    <tr>\n",
       "      <th>0</th>\n",
       "      <td>Asia</td>\n",
       "      <td>High School</td>\n",
       "      <td>N</td>\n",
       "      <td>N</td>\n",
       "      <td>14513</td>\n",
       "      <td>2007</td>\n",
       "      <td>West</td>\n",
       "      <td>592.2029</td>\n",
       "      <td>Hour</td>\n",
       "      <td>Y</td>\n",
       "      <td>Denied</td>\n",
       "    </tr>\n",
       "    <tr>\n",
       "      <th>1</th>\n",
       "      <td>Asia</td>\n",
       "      <td>Master's</td>\n",
       "      <td>Y</td>\n",
       "      <td>N</td>\n",
       "      <td>2412</td>\n",
       "      <td>2002</td>\n",
       "      <td>Northeast</td>\n",
       "      <td>83425.6500</td>\n",
       "      <td>Year</td>\n",
       "      <td>Y</td>\n",
       "      <td>Certified</td>\n",
       "    </tr>\n",
       "    <tr>\n",
       "      <th>2</th>\n",
       "      <td>Asia</td>\n",
       "      <td>Bachelor's</td>\n",
       "      <td>N</td>\n",
       "      <td>Y</td>\n",
       "      <td>44444</td>\n",
       "      <td>2008</td>\n",
       "      <td>West</td>\n",
       "      <td>122996.8600</td>\n",
       "      <td>Year</td>\n",
       "      <td>Y</td>\n",
       "      <td>Denied</td>\n",
       "    </tr>\n",
       "    <tr>\n",
       "      <th>3</th>\n",
       "      <td>Asia</td>\n",
       "      <td>Bachelor's</td>\n",
       "      <td>N</td>\n",
       "      <td>N</td>\n",
       "      <td>98</td>\n",
       "      <td>1897</td>\n",
       "      <td>West</td>\n",
       "      <td>83434.0300</td>\n",
       "      <td>Year</td>\n",
       "      <td>Y</td>\n",
       "      <td>Denied</td>\n",
       "    </tr>\n",
       "    <tr>\n",
       "      <th>4</th>\n",
       "      <td>Africa</td>\n",
       "      <td>Master's</td>\n",
       "      <td>Y</td>\n",
       "      <td>N</td>\n",
       "      <td>1082</td>\n",
       "      <td>2005</td>\n",
       "      <td>South</td>\n",
       "      <td>149907.3900</td>\n",
       "      <td>Year</td>\n",
       "      <td>Y</td>\n",
       "      <td>Certified</td>\n",
       "    </tr>\n",
       "    <tr>\n",
       "      <th>...</th>\n",
       "      <td>...</td>\n",
       "      <td>...</td>\n",
       "      <td>...</td>\n",
       "      <td>...</td>\n",
       "      <td>...</td>\n",
       "      <td>...</td>\n",
       "      <td>...</td>\n",
       "      <td>...</td>\n",
       "      <td>...</td>\n",
       "      <td>...</td>\n",
       "      <td>...</td>\n",
       "    </tr>\n",
       "    <tr>\n",
       "      <th>25475</th>\n",
       "      <td>Asia</td>\n",
       "      <td>Bachelor's</td>\n",
       "      <td>Y</td>\n",
       "      <td>Y</td>\n",
       "      <td>2601</td>\n",
       "      <td>2008</td>\n",
       "      <td>South</td>\n",
       "      <td>77092.5700</td>\n",
       "      <td>Year</td>\n",
       "      <td>Y</td>\n",
       "      <td>Certified</td>\n",
       "    </tr>\n",
       "    <tr>\n",
       "      <th>25476</th>\n",
       "      <td>Asia</td>\n",
       "      <td>High School</td>\n",
       "      <td>Y</td>\n",
       "      <td>N</td>\n",
       "      <td>3274</td>\n",
       "      <td>2006</td>\n",
       "      <td>Northeast</td>\n",
       "      <td>279174.7900</td>\n",
       "      <td>Year</td>\n",
       "      <td>Y</td>\n",
       "      <td>Certified</td>\n",
       "    </tr>\n",
       "    <tr>\n",
       "      <th>25477</th>\n",
       "      <td>Asia</td>\n",
       "      <td>Master's</td>\n",
       "      <td>Y</td>\n",
       "      <td>N</td>\n",
       "      <td>1121</td>\n",
       "      <td>1910</td>\n",
       "      <td>South</td>\n",
       "      <td>146298.8500</td>\n",
       "      <td>Year</td>\n",
       "      <td>N</td>\n",
       "      <td>Certified</td>\n",
       "    </tr>\n",
       "    <tr>\n",
       "      <th>25478</th>\n",
       "      <td>Asia</td>\n",
       "      <td>Master's</td>\n",
       "      <td>Y</td>\n",
       "      <td>Y</td>\n",
       "      <td>1918</td>\n",
       "      <td>1887</td>\n",
       "      <td>West</td>\n",
       "      <td>86154.7700</td>\n",
       "      <td>Year</td>\n",
       "      <td>Y</td>\n",
       "      <td>Certified</td>\n",
       "    </tr>\n",
       "    <tr>\n",
       "      <th>25479</th>\n",
       "      <td>Asia</td>\n",
       "      <td>Bachelor's</td>\n",
       "      <td>Y</td>\n",
       "      <td>N</td>\n",
       "      <td>3195</td>\n",
       "      <td>1960</td>\n",
       "      <td>Midwest</td>\n",
       "      <td>70876.9100</td>\n",
       "      <td>Year</td>\n",
       "      <td>Y</td>\n",
       "      <td>Certified</td>\n",
       "    </tr>\n",
       "  </tbody>\n",
       "</table>\n",
       "<p>25480 rows × 11 columns</p>\n",
       "</div>"
      ],
      "text/plain": [
       "      continent education_of_employee has_job_experience  \\\n",
       "0          Asia           High School                  N   \n",
       "1          Asia              Master's                  Y   \n",
       "2          Asia            Bachelor's                  N   \n",
       "3          Asia            Bachelor's                  N   \n",
       "4        Africa              Master's                  Y   \n",
       "...         ...                   ...                ...   \n",
       "25475      Asia            Bachelor's                  Y   \n",
       "25476      Asia           High School                  Y   \n",
       "25477      Asia              Master's                  Y   \n",
       "25478      Asia              Master's                  Y   \n",
       "25479      Asia            Bachelor's                  Y   \n",
       "\n",
       "      requires_job_training  no_of_employees  yr_of_estab  \\\n",
       "0                         N            14513         2007   \n",
       "1                         N             2412         2002   \n",
       "2                         Y            44444         2008   \n",
       "3                         N               98         1897   \n",
       "4                         N             1082         2005   \n",
       "...                     ...              ...          ...   \n",
       "25475                     Y             2601         2008   \n",
       "25476                     N             3274         2006   \n",
       "25477                     N             1121         1910   \n",
       "25478                     Y             1918         1887   \n",
       "25479                     N             3195         1960   \n",
       "\n",
       "      region_of_employment  prevailing_wage unit_of_wage full_time_position  \\\n",
       "0                     West         592.2029         Hour                  Y   \n",
       "1                Northeast       83425.6500         Year                  Y   \n",
       "2                     West      122996.8600         Year                  Y   \n",
       "3                     West       83434.0300         Year                  Y   \n",
       "4                    South      149907.3900         Year                  Y   \n",
       "...                    ...              ...          ...                ...   \n",
       "25475                South       77092.5700         Year                  Y   \n",
       "25476            Northeast      279174.7900         Year                  Y   \n",
       "25477                South      146298.8500         Year                  N   \n",
       "25478                 West       86154.7700         Year                  Y   \n",
       "25479              Midwest       70876.9100         Year                  Y   \n",
       "\n",
       "      case_status  \n",
       "0          Denied  \n",
       "1       Certified  \n",
       "2          Denied  \n",
       "3          Denied  \n",
       "4       Certified  \n",
       "...           ...  \n",
       "25475   Certified  \n",
       "25476   Certified  \n",
       "25477   Certified  \n",
       "25478   Certified  \n",
       "25479   Certified  \n",
       "\n",
       "[25480 rows x 11 columns]"
      ]
     },
     "execution_count": 57,
     "metadata": {},
     "output_type": "execute_result"
    }
   ],
   "source": [
    "df2 = df.drop(columns=['case_id'])#by default axis = 1 drops column\n",
    "df2"
   ]
  },
  {
   "cell_type": "markdown",
   "id": "79d86339",
   "metadata": {},
   "source": [
    "#### 3.5 Check DataTypes"
   ]
  },
  {
   "cell_type": "code",
   "execution_count": 58,
   "id": "24c9aab5",
   "metadata": {},
   "outputs": [
    {
     "name": "stdout",
     "output_type": "stream",
     "text": [
      "<class 'pandas.core.frame.DataFrame'>\n",
      "RangeIndex: 25480 entries, 0 to 25479\n",
      "Data columns (total 11 columns):\n",
      " #   Column                 Non-Null Count  Dtype  \n",
      "---  ------                 --------------  -----  \n",
      " 0   continent              25480 non-null  object \n",
      " 1   education_of_employee  25480 non-null  object \n",
      " 2   has_job_experience     25480 non-null  object \n",
      " 3   requires_job_training  25480 non-null  object \n",
      " 4   no_of_employees        25480 non-null  int64  \n",
      " 5   yr_of_estab            25480 non-null  int64  \n",
      " 6   region_of_employment   25480 non-null  object \n",
      " 7   prevailing_wage        25480 non-null  float64\n",
      " 8   unit_of_wage           25480 non-null  object \n",
      " 9   full_time_position     25480 non-null  object \n",
      " 10  case_status            25480 non-null  object \n",
      "dtypes: float64(1), int64(2), object(8)\n",
      "memory usage: 2.1+ MB\n"
     ]
    }
   ],
   "source": [
    "df2.info()"
   ]
  },
  {
   "cell_type": "markdown",
   "id": "45560e0b",
   "metadata": {},
   "source": [
    "- It does not contians any Null Records and Datatypes are also correct.\n",
    "- one float variable , two int variable and eight object variable datatypes.\n",
    "- Three Numerical Features and Eight Categorical Features."
   ]
  },
  {
   "cell_type": "markdown",
   "id": "7626f175",
   "metadata": {},
   "source": [
    "#### 3.5.1 Types of Features"
   ]
  },
  {
   "cell_type": "markdown",
   "id": "da4cf9cf",
   "metadata": {},
   "source": [
    "#### Numerical Features:"
   ]
  },
  {
   "cell_type": "code",
   "execution_count": 59,
   "id": "fb8c3edb",
   "metadata": {},
   "outputs": [
    {
     "name": "stdout",
     "output_type": "stream",
     "text": [
      "Numerical Features: ['no_of_employees', 'yr_of_estab', 'prevailing_wage']\n",
      "Number of Numerical Features:3\n"
     ]
    }
   ],
   "source": [
    "numerical_features = [features for features in df2.columns if df2[features].dtype !='O']\n",
    "print(f\"Numerical Features: {numerical_features}\\nNumber of Numerical Features:{len(numerical_features)}\")"
   ]
  },
  {
   "cell_type": "markdown",
   "id": "9b3e7df4",
   "metadata": {},
   "source": [
    "#### Categorcal Features:"
   ]
  },
  {
   "cell_type": "code",
   "execution_count": 60,
   "id": "5b2cd582",
   "metadata": {},
   "outputs": [
    {
     "name": "stdout",
     "output_type": "stream",
     "text": [
      "Categorical Features: ['continent', 'education_of_employee', 'has_job_experience', 'requires_job_training', 'region_of_employment', 'unit_of_wage', 'full_time_position', 'case_status']\n",
      "Number of Categorical Features:8\n"
     ]
    }
   ],
   "source": [
    "categorical_features = [features for features in df2.columns if df2[features].dtype == 'O']\n",
    "print(f\"Categorical Features: {categorical_features}\\nNumber of Categorical Features:{len(categorical_features)}\")"
   ]
  },
  {
   "cell_type": "markdown",
   "id": "9fc558f7",
   "metadata": {},
   "source": [
    "#### Numerical Feature into Discrete Feature and Continuous Feature:"
   ]
  },
  {
   "cell_type": "code",
   "execution_count": 61,
   "id": "5c2eb1e5",
   "metadata": {},
   "outputs": [
    {
     "name": "stdout",
     "output_type": "stream",
     "text": [
      "Discrete column :[]\n",
      "Continuous column: ['no_of_employees', 'yr_of_estab', 'prevailing_wage']\n"
     ]
    }
   ],
   "source": [
    "discrete,continuous = ([f for f in numerical_features if df2[f].nunique()<=25],[f for f in numerical_features if df2[f].nunique()>25])\n",
    "print(f\"Discrete column :{discrete}\\nContinuous column: {continuous}\")"
   ]
  },
  {
   "cell_type": "code",
   "execution_count": 62,
   "id": "19f5431f",
   "metadata": {},
   "outputs": [
    {
     "data": {
      "text/html": [
       "<div>\n",
       "<style scoped>\n",
       "    .dataframe tbody tr th:only-of-type {\n",
       "        vertical-align: middle;\n",
       "    }\n",
       "\n",
       "    .dataframe tbody tr th {\n",
       "        vertical-align: top;\n",
       "    }\n",
       "\n",
       "    .dataframe thead th {\n",
       "        text-align: right;\n",
       "    }\n",
       "</style>\n",
       "<table border=\"1\" class=\"dataframe\">\n",
       "  <thead>\n",
       "    <tr style=\"text-align: right;\">\n",
       "      <th></th>\n",
       "      <th>no_of_employees</th>\n",
       "      <th>yr_of_estab</th>\n",
       "      <th>prevailing_wage</th>\n",
       "    </tr>\n",
       "  </thead>\n",
       "  <tbody>\n",
       "    <tr>\n",
       "      <th>count</th>\n",
       "      <td>25480.000000</td>\n",
       "      <td>25480.000000</td>\n",
       "      <td>25480.000000</td>\n",
       "    </tr>\n",
       "    <tr>\n",
       "      <th>mean</th>\n",
       "      <td>5667.043210</td>\n",
       "      <td>1979.409929</td>\n",
       "      <td>74455.814592</td>\n",
       "    </tr>\n",
       "    <tr>\n",
       "      <th>std</th>\n",
       "      <td>22877.928848</td>\n",
       "      <td>42.366929</td>\n",
       "      <td>52815.942327</td>\n",
       "    </tr>\n",
       "    <tr>\n",
       "      <th>min</th>\n",
       "      <td>-26.000000</td>\n",
       "      <td>1800.000000</td>\n",
       "      <td>2.136700</td>\n",
       "    </tr>\n",
       "    <tr>\n",
       "      <th>25%</th>\n",
       "      <td>1022.000000</td>\n",
       "      <td>1976.000000</td>\n",
       "      <td>34015.480000</td>\n",
       "    </tr>\n",
       "    <tr>\n",
       "      <th>50%</th>\n",
       "      <td>2109.000000</td>\n",
       "      <td>1997.000000</td>\n",
       "      <td>70308.210000</td>\n",
       "    </tr>\n",
       "    <tr>\n",
       "      <th>75%</th>\n",
       "      <td>3504.000000</td>\n",
       "      <td>2005.000000</td>\n",
       "      <td>107735.512500</td>\n",
       "    </tr>\n",
       "    <tr>\n",
       "      <th>max</th>\n",
       "      <td>602069.000000</td>\n",
       "      <td>2016.000000</td>\n",
       "      <td>319210.270000</td>\n",
       "    </tr>\n",
       "  </tbody>\n",
       "</table>\n",
       "</div>"
      ],
      "text/plain": [
       "       no_of_employees   yr_of_estab  prevailing_wage\n",
       "count     25480.000000  25480.000000     25480.000000\n",
       "mean       5667.043210   1979.409929     74455.814592\n",
       "std       22877.928848     42.366929     52815.942327\n",
       "min         -26.000000   1800.000000         2.136700\n",
       "25%        1022.000000   1976.000000     34015.480000\n",
       "50%        2109.000000   1997.000000     70308.210000\n",
       "75%        3504.000000   2005.000000    107735.512500\n",
       "max      602069.000000   2016.000000    319210.270000"
      ]
     },
     "execution_count": 62,
     "metadata": {},
     "output_type": "execute_result"
    }
   ],
   "source": [
    "df2.describe()"
   ]
  },
  {
   "cell_type": "code",
   "execution_count": 63,
   "id": "a0faa5b2",
   "metadata": {},
   "outputs": [
    {
     "data": {
      "text/plain": [
       "33"
      ]
     },
     "execution_count": 63,
     "metadata": {},
     "output_type": "execute_result"
    }
   ],
   "source": [
    "df2[df2['no_of_employees']<1].shape[0]"
   ]
  },
  {
   "cell_type": "code",
   "execution_count": 64,
   "id": "88e2274d",
   "metadata": {},
   "outputs": [
    {
     "data": {
      "text/plain": [
       "np.int64(6751)"
      ]
     },
     "execution_count": 64,
     "metadata": {},
     "output_type": "execute_result"
    }
   ],
   "source": [
    "df2[df2['yr_of_estab']>=2005]['yr_of_estab'].value_counts().values.sum()#year of established after 2005 year Total number of companies established"
   ]
  },
  {
   "cell_type": "code",
   "execution_count": 65,
   "metadata": {},
   "outputs": [
    {
     "data": {
      "text/plain": [
       "np.int64(18729)"
      ]
     },
     "execution_count": 65,
     "metadata": {},
     "output_type": "execute_result"
    }
   ],
   "source": [
    "df2[df2['yr_of_estab']<2005]['yr_of_estab'].value_counts().values.sum() # year of established before and equal to 2005 year Total number of companies established"
   ]
  },
  {
   "cell_type": "markdown",
   "id": "278a6892",
   "metadata": {},
   "source": [
    "**No of employees**\n",
    "- No of employees has mean 5667 and median of 2109\n",
    "- Standarad Deviation is 22877 away from mean it means it has high spread\n",
    "- 50% of no employees are less than 2109 which shows 50% of data contains lesser values\n",
    "- max is 602069 and min -26. This contains outlier need to be handled.\n",
    "- mean > median >= Mode : right skewedness indication.\n",
    "\n",
    "**Year of Establishment**\n",
    "- It contains record from 1800's to 2016's of year of establishment of Employeer.\n",
    "- Mean Year of Establishment of Employeer is 1979 and Median Year of 1997.\n",
    "- 75% of Employeer's companies are established before 2005 year.\n",
    "- The spread is low std(42.36) and mean(1979) < median(1997) < mode shows that distribution is slightly left skewed.\n",
    "\n",
    "**Prevailing Wage**\n",
    "- 50% of wages of employees are less than 70,308 dollars.\n",
    "- Minimum Wage of employee is 2.13 and Maximum Wage is 3,19,210 dollars.\n",
    "- Average Wage is 74,455 dollar with std is 52,815 which shows high spread.\n",
    "- Mean(74,455) >= Median(70,308) >= Mode it is slight moderate right skewed.\n",
    "- 75% of wages of Employees are less than 1,07,735 it might have more outliers.\n",
    "- Very low wage may be invalid - validate.\n",
    "\n",
    "**Here the most important step is to validate the values and check for outliers**"
   ]
  },
  {
   "cell_type": "markdown",
   "id": "c1e77972",
   "metadata": {},
   "source": [
    "##### Feature Engineering:\n",
    "\n",
    "**Feature Creation:**\n",
    "- create Company age feature from year of established column."
   ]
  },
  {
   "cell_type": "code",
   "execution_count": 66,
   "id": "255fca2b",
   "metadata": {},
   "outputs": [
    {
     "name": "stdout",
     "output_type": "stream",
     "text": [
      "2025\n"
     ]
    }
   ],
   "source": [
    "from datetime import date\n",
    "\n",
    "today_date = date.today()\n",
    "current_year = today_date.year\n",
    "print(current_year)"
   ]
  },
  {
   "cell_type": "code",
   "execution_count": 67,
   "id": "b2b2e186",
   "metadata": {},
   "outputs": [
    {
     "data": {
      "text/html": [
       "<div>\n",
       "<style scoped>\n",
       "    .dataframe tbody tr th:only-of-type {\n",
       "        vertical-align: middle;\n",
       "    }\n",
       "\n",
       "    .dataframe tbody tr th {\n",
       "        vertical-align: top;\n",
       "    }\n",
       "\n",
       "    .dataframe thead th {\n",
       "        text-align: right;\n",
       "    }\n",
       "</style>\n",
       "<table border=\"1\" class=\"dataframe\">\n",
       "  <thead>\n",
       "    <tr style=\"text-align: right;\">\n",
       "      <th></th>\n",
       "      <th>continent</th>\n",
       "      <th>education_of_employee</th>\n",
       "      <th>has_job_experience</th>\n",
       "      <th>requires_job_training</th>\n",
       "      <th>no_of_employees</th>\n",
       "      <th>yr_of_estab</th>\n",
       "      <th>region_of_employment</th>\n",
       "      <th>prevailing_wage</th>\n",
       "      <th>unit_of_wage</th>\n",
       "      <th>full_time_position</th>\n",
       "      <th>case_status</th>\n",
       "      <th>company_age</th>\n",
       "    </tr>\n",
       "  </thead>\n",
       "  <tbody>\n",
       "    <tr>\n",
       "      <th>0</th>\n",
       "      <td>Asia</td>\n",
       "      <td>High School</td>\n",
       "      <td>N</td>\n",
       "      <td>N</td>\n",
       "      <td>14513</td>\n",
       "      <td>2007</td>\n",
       "      <td>West</td>\n",
       "      <td>592.2029</td>\n",
       "      <td>Hour</td>\n",
       "      <td>Y</td>\n",
       "      <td>Denied</td>\n",
       "      <td>18</td>\n",
       "    </tr>\n",
       "    <tr>\n",
       "      <th>1</th>\n",
       "      <td>Asia</td>\n",
       "      <td>Master's</td>\n",
       "      <td>Y</td>\n",
       "      <td>N</td>\n",
       "      <td>2412</td>\n",
       "      <td>2002</td>\n",
       "      <td>Northeast</td>\n",
       "      <td>83425.6500</td>\n",
       "      <td>Year</td>\n",
       "      <td>Y</td>\n",
       "      <td>Certified</td>\n",
       "      <td>23</td>\n",
       "    </tr>\n",
       "    <tr>\n",
       "      <th>2</th>\n",
       "      <td>Asia</td>\n",
       "      <td>Bachelor's</td>\n",
       "      <td>N</td>\n",
       "      <td>Y</td>\n",
       "      <td>44444</td>\n",
       "      <td>2008</td>\n",
       "      <td>West</td>\n",
       "      <td>122996.8600</td>\n",
       "      <td>Year</td>\n",
       "      <td>Y</td>\n",
       "      <td>Denied</td>\n",
       "      <td>17</td>\n",
       "    </tr>\n",
       "    <tr>\n",
       "      <th>3</th>\n",
       "      <td>Asia</td>\n",
       "      <td>Bachelor's</td>\n",
       "      <td>N</td>\n",
       "      <td>N</td>\n",
       "      <td>98</td>\n",
       "      <td>1897</td>\n",
       "      <td>West</td>\n",
       "      <td>83434.0300</td>\n",
       "      <td>Year</td>\n",
       "      <td>Y</td>\n",
       "      <td>Denied</td>\n",
       "      <td>128</td>\n",
       "    </tr>\n",
       "    <tr>\n",
       "      <th>4</th>\n",
       "      <td>Africa</td>\n",
       "      <td>Master's</td>\n",
       "      <td>Y</td>\n",
       "      <td>N</td>\n",
       "      <td>1082</td>\n",
       "      <td>2005</td>\n",
       "      <td>South</td>\n",
       "      <td>149907.3900</td>\n",
       "      <td>Year</td>\n",
       "      <td>Y</td>\n",
       "      <td>Certified</td>\n",
       "      <td>20</td>\n",
       "    </tr>\n",
       "  </tbody>\n",
       "</table>\n",
       "</div>"
      ],
      "text/plain": [
       "  continent education_of_employee has_job_experience requires_job_training  \\\n",
       "0      Asia           High School                  N                     N   \n",
       "1      Asia              Master's                  Y                     N   \n",
       "2      Asia            Bachelor's                  N                     Y   \n",
       "3      Asia            Bachelor's                  N                     N   \n",
       "4    Africa              Master's                  Y                     N   \n",
       "\n",
       "   no_of_employees  yr_of_estab region_of_employment  prevailing_wage  \\\n",
       "0            14513         2007                 West         592.2029   \n",
       "1             2412         2002            Northeast       83425.6500   \n",
       "2            44444         2008                 West      122996.8600   \n",
       "3               98         1897                 West       83434.0300   \n",
       "4             1082         2005                South      149907.3900   \n",
       "\n",
       "  unit_of_wage full_time_position case_status  company_age  \n",
       "0         Hour                  Y      Denied           18  \n",
       "1         Year                  Y   Certified           23  \n",
       "2         Year                  Y      Denied           17  \n",
       "3         Year                  Y      Denied          128  \n",
       "4         Year                  Y   Certified           20  "
      ]
     },
     "execution_count": 67,
     "metadata": {},
     "output_type": "execute_result"
    }
   ],
   "source": [
    "df2['company_age'] = current_year - df2['yr_of_estab']\n",
    "df2.head()"
   ]
  },
  {
   "cell_type": "code",
   "execution_count": 68,
   "id": "f23a50d8",
   "metadata": {},
   "outputs": [],
   "source": [
    "df2.drop('yr_of_estab',inplace=True,axis=1)"
   ]
  },
  {
   "cell_type": "code",
   "execution_count": 69,
   "metadata": {},
   "outputs": [
    {
     "data": {
      "text/html": [
       "<div>\n",
       "<style scoped>\n",
       "    .dataframe tbody tr th:only-of-type {\n",
       "        vertical-align: middle;\n",
       "    }\n",
       "\n",
       "    .dataframe tbody tr th {\n",
       "        vertical-align: top;\n",
       "    }\n",
       "\n",
       "    .dataframe thead th {\n",
       "        text-align: right;\n",
       "    }\n",
       "</style>\n",
       "<table border=\"1\" class=\"dataframe\">\n",
       "  <thead>\n",
       "    <tr style=\"text-align: right;\">\n",
       "      <th></th>\n",
       "      <th>continent</th>\n",
       "      <th>education_of_employee</th>\n",
       "      <th>has_job_experience</th>\n",
       "      <th>requires_job_training</th>\n",
       "      <th>no_of_employees</th>\n",
       "      <th>region_of_employment</th>\n",
       "      <th>prevailing_wage</th>\n",
       "      <th>unit_of_wage</th>\n",
       "      <th>full_time_position</th>\n",
       "      <th>case_status</th>\n",
       "      <th>company_age</th>\n",
       "    </tr>\n",
       "  </thead>\n",
       "  <tbody>\n",
       "    <tr>\n",
       "      <th>0</th>\n",
       "      <td>Asia</td>\n",
       "      <td>High School</td>\n",
       "      <td>N</td>\n",
       "      <td>N</td>\n",
       "      <td>14513</td>\n",
       "      <td>West</td>\n",
       "      <td>592.2029</td>\n",
       "      <td>Hour</td>\n",
       "      <td>Y</td>\n",
       "      <td>Denied</td>\n",
       "      <td>18</td>\n",
       "    </tr>\n",
       "    <tr>\n",
       "      <th>1</th>\n",
       "      <td>Asia</td>\n",
       "      <td>Master's</td>\n",
       "      <td>Y</td>\n",
       "      <td>N</td>\n",
       "      <td>2412</td>\n",
       "      <td>Northeast</td>\n",
       "      <td>83425.6500</td>\n",
       "      <td>Year</td>\n",
       "      <td>Y</td>\n",
       "      <td>Certified</td>\n",
       "      <td>23</td>\n",
       "    </tr>\n",
       "    <tr>\n",
       "      <th>2</th>\n",
       "      <td>Asia</td>\n",
       "      <td>Bachelor's</td>\n",
       "      <td>N</td>\n",
       "      <td>Y</td>\n",
       "      <td>44444</td>\n",
       "      <td>West</td>\n",
       "      <td>122996.8600</td>\n",
       "      <td>Year</td>\n",
       "      <td>Y</td>\n",
       "      <td>Denied</td>\n",
       "      <td>17</td>\n",
       "    </tr>\n",
       "    <tr>\n",
       "      <th>3</th>\n",
       "      <td>Asia</td>\n",
       "      <td>Bachelor's</td>\n",
       "      <td>N</td>\n",
       "      <td>N</td>\n",
       "      <td>98</td>\n",
       "      <td>West</td>\n",
       "      <td>83434.0300</td>\n",
       "      <td>Year</td>\n",
       "      <td>Y</td>\n",
       "      <td>Denied</td>\n",
       "      <td>128</td>\n",
       "    </tr>\n",
       "    <tr>\n",
       "      <th>4</th>\n",
       "      <td>Africa</td>\n",
       "      <td>Master's</td>\n",
       "      <td>Y</td>\n",
       "      <td>N</td>\n",
       "      <td>1082</td>\n",
       "      <td>South</td>\n",
       "      <td>149907.3900</td>\n",
       "      <td>Year</td>\n",
       "      <td>Y</td>\n",
       "      <td>Certified</td>\n",
       "      <td>20</td>\n",
       "    </tr>\n",
       "    <tr>\n",
       "      <th>...</th>\n",
       "      <td>...</td>\n",
       "      <td>...</td>\n",
       "      <td>...</td>\n",
       "      <td>...</td>\n",
       "      <td>...</td>\n",
       "      <td>...</td>\n",
       "      <td>...</td>\n",
       "      <td>...</td>\n",
       "      <td>...</td>\n",
       "      <td>...</td>\n",
       "      <td>...</td>\n",
       "    </tr>\n",
       "    <tr>\n",
       "      <th>25475</th>\n",
       "      <td>Asia</td>\n",
       "      <td>Bachelor's</td>\n",
       "      <td>Y</td>\n",
       "      <td>Y</td>\n",
       "      <td>2601</td>\n",
       "      <td>South</td>\n",
       "      <td>77092.5700</td>\n",
       "      <td>Year</td>\n",
       "      <td>Y</td>\n",
       "      <td>Certified</td>\n",
       "      <td>17</td>\n",
       "    </tr>\n",
       "    <tr>\n",
       "      <th>25476</th>\n",
       "      <td>Asia</td>\n",
       "      <td>High School</td>\n",
       "      <td>Y</td>\n",
       "      <td>N</td>\n",
       "      <td>3274</td>\n",
       "      <td>Northeast</td>\n",
       "      <td>279174.7900</td>\n",
       "      <td>Year</td>\n",
       "      <td>Y</td>\n",
       "      <td>Certified</td>\n",
       "      <td>19</td>\n",
       "    </tr>\n",
       "    <tr>\n",
       "      <th>25477</th>\n",
       "      <td>Asia</td>\n",
       "      <td>Master's</td>\n",
       "      <td>Y</td>\n",
       "      <td>N</td>\n",
       "      <td>1121</td>\n",
       "      <td>South</td>\n",
       "      <td>146298.8500</td>\n",
       "      <td>Year</td>\n",
       "      <td>N</td>\n",
       "      <td>Certified</td>\n",
       "      <td>115</td>\n",
       "    </tr>\n",
       "    <tr>\n",
       "      <th>25478</th>\n",
       "      <td>Asia</td>\n",
       "      <td>Master's</td>\n",
       "      <td>Y</td>\n",
       "      <td>Y</td>\n",
       "      <td>1918</td>\n",
       "      <td>West</td>\n",
       "      <td>86154.7700</td>\n",
       "      <td>Year</td>\n",
       "      <td>Y</td>\n",
       "      <td>Certified</td>\n",
       "      <td>138</td>\n",
       "    </tr>\n",
       "    <tr>\n",
       "      <th>25479</th>\n",
       "      <td>Asia</td>\n",
       "      <td>Bachelor's</td>\n",
       "      <td>Y</td>\n",
       "      <td>N</td>\n",
       "      <td>3195</td>\n",
       "      <td>Midwest</td>\n",
       "      <td>70876.9100</td>\n",
       "      <td>Year</td>\n",
       "      <td>Y</td>\n",
       "      <td>Certified</td>\n",
       "      <td>65</td>\n",
       "    </tr>\n",
       "  </tbody>\n",
       "</table>\n",
       "<p>25480 rows × 11 columns</p>\n",
       "</div>"
      ],
      "text/plain": [
       "      continent education_of_employee has_job_experience  \\\n",
       "0          Asia           High School                  N   \n",
       "1          Asia              Master's                  Y   \n",
       "2          Asia            Bachelor's                  N   \n",
       "3          Asia            Bachelor's                  N   \n",
       "4        Africa              Master's                  Y   \n",
       "...         ...                   ...                ...   \n",
       "25475      Asia            Bachelor's                  Y   \n",
       "25476      Asia           High School                  Y   \n",
       "25477      Asia              Master's                  Y   \n",
       "25478      Asia              Master's                  Y   \n",
       "25479      Asia            Bachelor's                  Y   \n",
       "\n",
       "      requires_job_training  no_of_employees region_of_employment  \\\n",
       "0                         N            14513                 West   \n",
       "1                         N             2412            Northeast   \n",
       "2                         Y            44444                 West   \n",
       "3                         N               98                 West   \n",
       "4                         N             1082                South   \n",
       "...                     ...              ...                  ...   \n",
       "25475                     Y             2601                South   \n",
       "25476                     N             3274            Northeast   \n",
       "25477                     N             1121                South   \n",
       "25478                     Y             1918                 West   \n",
       "25479                     N             3195              Midwest   \n",
       "\n",
       "       prevailing_wage unit_of_wage full_time_position case_status  \\\n",
       "0             592.2029         Hour                  Y      Denied   \n",
       "1           83425.6500         Year                  Y   Certified   \n",
       "2          122996.8600         Year                  Y      Denied   \n",
       "3           83434.0300         Year                  Y      Denied   \n",
       "4          149907.3900         Year                  Y   Certified   \n",
       "...                ...          ...                ...         ...   \n",
       "25475       77092.5700         Year                  Y   Certified   \n",
       "25476      279174.7900         Year                  Y   Certified   \n",
       "25477      146298.8500         Year                  N   Certified   \n",
       "25478       86154.7700         Year                  Y   Certified   \n",
       "25479       70876.9100         Year                  Y   Certified   \n",
       "\n",
       "       company_age  \n",
       "0               18  \n",
       "1               23  \n",
       "2               17  \n",
       "3              128  \n",
       "4               20  \n",
       "...            ...  \n",
       "25475           17  \n",
       "25476           19  \n",
       "25477          115  \n",
       "25478          138  \n",
       "25479           65  \n",
       "\n",
       "[25480 rows x 11 columns]"
      ]
     },
     "execution_count": 69,
     "metadata": {},
     "output_type": "execute_result"
    }
   ],
   "source": [
    "df2"
   ]
  },
  {
   "cell_type": "markdown",
   "id": "36394996",
   "metadata": {},
   "source": [
    "#### 2. Spliting for Transform/Scale:"
   ]
  },
  {
   "cell_type": "code",
   "execution_count": 70,
   "id": "0f52e01c",
   "metadata": {},
   "outputs": [],
   "source": [
    "X = df2.drop('case_status',axis=1)\n",
    "y = df2['case_status']"
   ]
  },
  {
   "cell_type": "code",
   "execution_count": 71,
   "id": "d158c384",
   "metadata": {},
   "outputs": [
    {
     "data": {
      "text/html": [
       "<div>\n",
       "<style scoped>\n",
       "    .dataframe tbody tr th:only-of-type {\n",
       "        vertical-align: middle;\n",
       "    }\n",
       "\n",
       "    .dataframe tbody tr th {\n",
       "        vertical-align: top;\n",
       "    }\n",
       "\n",
       "    .dataframe thead th {\n",
       "        text-align: right;\n",
       "    }\n",
       "</style>\n",
       "<table border=\"1\" class=\"dataframe\">\n",
       "  <thead>\n",
       "    <tr style=\"text-align: right;\">\n",
       "      <th></th>\n",
       "      <th>continent</th>\n",
       "      <th>education_of_employee</th>\n",
       "      <th>has_job_experience</th>\n",
       "      <th>requires_job_training</th>\n",
       "      <th>no_of_employees</th>\n",
       "      <th>region_of_employment</th>\n",
       "      <th>prevailing_wage</th>\n",
       "      <th>unit_of_wage</th>\n",
       "      <th>full_time_position</th>\n",
       "      <th>company_age</th>\n",
       "    </tr>\n",
       "  </thead>\n",
       "  <tbody>\n",
       "    <tr>\n",
       "      <th>0</th>\n",
       "      <td>Asia</td>\n",
       "      <td>High School</td>\n",
       "      <td>N</td>\n",
       "      <td>N</td>\n",
       "      <td>14513</td>\n",
       "      <td>West</td>\n",
       "      <td>592.2029</td>\n",
       "      <td>Hour</td>\n",
       "      <td>Y</td>\n",
       "      <td>18</td>\n",
       "    </tr>\n",
       "    <tr>\n",
       "      <th>1</th>\n",
       "      <td>Asia</td>\n",
       "      <td>Master's</td>\n",
       "      <td>Y</td>\n",
       "      <td>N</td>\n",
       "      <td>2412</td>\n",
       "      <td>Northeast</td>\n",
       "      <td>83425.6500</td>\n",
       "      <td>Year</td>\n",
       "      <td>Y</td>\n",
       "      <td>23</td>\n",
       "    </tr>\n",
       "    <tr>\n",
       "      <th>2</th>\n",
       "      <td>Asia</td>\n",
       "      <td>Bachelor's</td>\n",
       "      <td>N</td>\n",
       "      <td>Y</td>\n",
       "      <td>44444</td>\n",
       "      <td>West</td>\n",
       "      <td>122996.8600</td>\n",
       "      <td>Year</td>\n",
       "      <td>Y</td>\n",
       "      <td>17</td>\n",
       "    </tr>\n",
       "    <tr>\n",
       "      <th>3</th>\n",
       "      <td>Asia</td>\n",
       "      <td>Bachelor's</td>\n",
       "      <td>N</td>\n",
       "      <td>N</td>\n",
       "      <td>98</td>\n",
       "      <td>West</td>\n",
       "      <td>83434.0300</td>\n",
       "      <td>Year</td>\n",
       "      <td>Y</td>\n",
       "      <td>128</td>\n",
       "    </tr>\n",
       "    <tr>\n",
       "      <th>4</th>\n",
       "      <td>Africa</td>\n",
       "      <td>Master's</td>\n",
       "      <td>Y</td>\n",
       "      <td>N</td>\n",
       "      <td>1082</td>\n",
       "      <td>South</td>\n",
       "      <td>149907.3900</td>\n",
       "      <td>Year</td>\n",
       "      <td>Y</td>\n",
       "      <td>20</td>\n",
       "    </tr>\n",
       "  </tbody>\n",
       "</table>\n",
       "</div>"
      ],
      "text/plain": [
       "  continent education_of_employee has_job_experience requires_job_training  \\\n",
       "0      Asia           High School                  N                     N   \n",
       "1      Asia              Master's                  Y                     N   \n",
       "2      Asia            Bachelor's                  N                     Y   \n",
       "3      Asia            Bachelor's                  N                     N   \n",
       "4    Africa              Master's                  Y                     N   \n",
       "\n",
       "   no_of_employees region_of_employment  prevailing_wage unit_of_wage  \\\n",
       "0            14513                 West         592.2029         Hour   \n",
       "1             2412            Northeast       83425.6500         Year   \n",
       "2            44444                 West      122996.8600         Year   \n",
       "3               98                 West       83434.0300         Year   \n",
       "4             1082                South      149907.3900         Year   \n",
       "\n",
       "  full_time_position  company_age  \n",
       "0                  Y           18  \n",
       "1                  Y           23  \n",
       "2                  Y           17  \n",
       "3                  Y          128  \n",
       "4                  Y           20  "
      ]
     },
     "execution_count": 71,
     "metadata": {},
     "output_type": "execute_result"
    }
   ],
   "source": [
    "X.head()"
   ]
  },
  {
   "cell_type": "code",
   "execution_count": 72,
   "metadata": {},
   "outputs": [
    {
     "data": {
      "text/plain": [
       "0       Denied\n",
       "1    Certified\n",
       "2       Denied\n",
       "3       Denied\n",
       "4    Certified\n",
       "Name: case_status, dtype: object"
      ]
     },
     "execution_count": 72,
     "metadata": {},
     "output_type": "execute_result"
    }
   ],
   "source": [
    "y.head()"
   ]
  },
  {
   "cell_type": "markdown",
   "id": "81ba94fa",
   "metadata": {},
   "source": [
    "#### 3. Encoding Target column:"
   ]
  },
  {
   "cell_type": "code",
   "execution_count": 73,
   "id": "6f09264a",
   "metadata": {},
   "outputs": [
    {
     "data": {
      "text/plain": [
       "array([1, 0, 1, ..., 0, 0, 0], shape=(25480,))"
      ]
     },
     "execution_count": 73,
     "metadata": {},
     "output_type": "execute_result"
    }
   ],
   "source": [
    "y = np.where(y=='Denied',1,0)\n",
    "y"
   ]
  },
  {
   "cell_type": "markdown",
   "id": "0149196b",
   "metadata": {},
   "source": [
    "#### 4. Feature Transformation:"
   ]
  },
  {
   "cell_type": "code",
   "execution_count": 74,
   "id": "afb306d1",
   "metadata": {},
   "outputs": [
    {
     "data": {
      "image/png": "[encoded data removed]",
      "text/plain": [
       "<Figure size 1800x1600 with 3 Axes>"
      ]
     },
     "metadata": {},
     "output_type": "display_data"
    }
   ],
   "source": [
    "new_numerical_features = [f for f in df2.columns  if df2[f].dtype != 'O']\n",
    "fig,ax = plt.subplots(3,1,figsize=(18,16))\n",
    "plt.suptitle(\"Distribution of Numerical Features\",fontsize=20,weight='bold')\n",
    "for i,col in enumerate(new_numerical_features):\n",
    "    sns.histplot(x=X[col],ax=ax[i])\n",
    "    ax[i].set_xlabel(col,fontsize=14,weight='bold')\n",
    "    ax[i].set_ylabel('Count',fontsize=14,weight='bold')\n",
    "\n",
    "plt.tight_layout()\n",
    "plt.show()"
   ]
  },
  {
   "cell_type": "markdown",
   "id": "0ecd6f6d",
   "metadata": {},
   "source": [
    "- Number of employee and company age features are more skewed compared to prevailing age.\n",
    "- The outlier natures is in both ends at initial and at final end mostly the Number of employee feature column whereas company age has also outlier at lateral age with bins of 50 year each.\n",
    "- If we look at the spread of company age distribution it is very low in volume after and before 50 bin whereas prevailing age is nice spread at majority of wages distribution it has not very much outlier compare to company age but inittial it has that need to be handled.\n",
    "- In these features there are negative and positive values which can see we can apply boxcoc transformation but it doesnot handle negative values so we use **Yeo Johnson transformation** that handle both skew type left and right skewed."
   ]
  },
  {
   "cell_type": "markdown",
   "id": "7abbf0be",
   "metadata": {},
   "source": [
    "#### 4.1 Check Skeweness:"
   ]
  },
  {
   "cell_type": "code",
   "execution_count": 75,
   "id": "90b7b30d",
   "metadata": {},
   "outputs": [
    {
     "data": {
      "text/plain": [
       "no_of_employees    12.265260\n",
       "prevailing_wage     0.755776\n",
       "company_age         2.037301\n",
       "dtype: float64"
      ]
     },
     "execution_count": 75,
     "metadata": {},
     "output_type": "execute_result"
    }
   ],
   "source": [
    "X[new_numerical_features].skew()"
   ]
  },
  {
   "cell_type": "markdown",
   "id": "9a422871",
   "metadata": {},
   "source": [
    "- no_of_employees is very highly skewed as skewness value tells it which is **(12.26)** whereas this column values tells that employeer company number of employee in that company doing work, As this column doesnot contain duplicate records this shows that it is valid column the value it hold tells lot of information about size of company.Need to handle this by power transformation.\n",
    "- company_age is positively skewed this also contain unique infromation which is **2.03**.\n",
    "- prevailing_wage is moderate positive skew it doesnot contain that many outliers with **0.75**.\n",
    "\n",
    "**These columns are important this are unique and independent columns which gives unique information,But we need transformation to handle outliers mainly**"
   ]
  },
  {
   "cell_type": "markdown",
   "id": "cfd209b3",
   "metadata": {},
   "source": [
    "#### 5.Applying Power Transformation:"
   ]
  },
  {
   "cell_type": "code",
   "execution_count": 76,
   "id": "8e5e17e0",
   "metadata": {},
   "outputs": [
    {
     "name": "stdout",
     "output_type": "stream",
     "text": [
      "<class 'list'>\n",
      "['no_of_employees', 'company_age']\n"
     ]
    },
    {
     "data": {
      "text/plain": [
       "array([[ 1.51729976, -0.95555058],\n",
       "       [ 0.03091211, -0.4670008 ],\n",
       "       [ 2.88507606, -1.07836333],\n",
       "       ...,\n",
       "       [-0.41388512,  1.55020884],\n",
       "       [-0.11194883,  1.68473895],\n",
       "       [ 0.21874168,  1.02763812]], shape=(25480, 2))"
      ]
     },
     "execution_count": 76,
     "metadata": {},
     "output_type": "execute_result"
    }
   ],
   "source": [
    "from sklearn.preprocessing import PowerTransformer\n",
    "\n",
    "pt = PowerTransformer(method='yeo-johnson')\n",
    "var = 'prevailing_wage'# change to empty\n",
    "print(type(new_numerical_features))\n",
    "# maximizes gaussianity of the transformed data\n",
    "for i in new_numerical_features:\n",
    "    if i == var:\n",
    "        new_numerical_features.remove(var)\n",
    "    else:\n",
    "        pass\n",
    "#uncommented for first run\n",
    "print(new_numerical_features)\n",
    "X_transformed_features = pt.fit_transform(X[new_numerical_features])\n",
    "X_transformed_features"
   ]
  },
  {
   "cell_type": "code",
   "execution_count": 77,
   "id": "e7359626",
   "metadata": {},
   "outputs": [
    {
     "data": {
      "text/html": [
       "<div>\n",
       "<style scoped>\n",
       "    .dataframe tbody tr th:only-of-type {\n",
       "        vertical-align: middle;\n",
       "    }\n",
       "\n",
       "    .dataframe tbody tr th {\n",
       "        vertical-align: top;\n",
       "    }\n",
       "\n",
       "    .dataframe thead th {\n",
       "        text-align: right;\n",
       "    }\n",
       "</style>\n",
       "<table border=\"1\" class=\"dataframe\">\n",
       "  <thead>\n",
       "    <tr style=\"text-align: right;\">\n",
       "      <th></th>\n",
       "      <th>no_of_employees</th>\n",
       "      <th>company_age</th>\n",
       "    </tr>\n",
       "  </thead>\n",
       "  <tbody>\n",
       "    <tr>\n",
       "      <th>0</th>\n",
       "      <td>1.517300</td>\n",
       "      <td>-0.955551</td>\n",
       "    </tr>\n",
       "    <tr>\n",
       "      <th>1</th>\n",
       "      <td>0.030912</td>\n",
       "      <td>-0.467001</td>\n",
       "    </tr>\n",
       "    <tr>\n",
       "      <th>2</th>\n",
       "      <td>2.885076</td>\n",
       "      <td>-1.078363</td>\n",
       "    </tr>\n",
       "    <tr>\n",
       "      <th>3</th>\n",
       "      <td>-1.343550</td>\n",
       "      <td>1.630914</td>\n",
       "    </tr>\n",
       "    <tr>\n",
       "      <th>4</th>\n",
       "      <td>-0.432287</td>\n",
       "      <td>-0.738126</td>\n",
       "    </tr>\n",
       "  </tbody>\n",
       "</table>\n",
       "</div>"
      ],
      "text/plain": [
       "   no_of_employees  company_age\n",
       "0         1.517300    -0.955551\n",
       "1         0.030912    -0.467001\n",
       "2         2.885076    -1.078363\n",
       "3        -1.343550     1.630914\n",
       "4        -0.432287    -0.738126"
      ]
     },
     "execution_count": 77,
     "metadata": {},
     "output_type": "execute_result"
    }
   ],
   "source": [
    "X_copy = pd.DataFrame(X_transformed_features,columns=new_numerical_features)\n",
    "X_copy.head()"
   ]
  },
  {
   "cell_type": "code",
   "execution_count": 78,
   "id": "123b0ce9",
   "metadata": {},
   "outputs": [
    {
     "data": {
      "text/plain": [
       "<Figure size 1200x600 with 0 Axes>"
      ]
     },
     "metadata": {},
     "output_type": "display_data"
    },
    {
     "data": {
      "image/png": "[encoded data removed]",
      "text/plain": [
       "<Figure size 1800x1600 with 2 Axes>"
      ]
     },
     "metadata": {},
     "output_type": "display_data"
    }
   ],
   "source": [
    "plt.figure(figsize=(12,6))\n",
    "num = len(new_numerical_features)\n",
    "fig,ax = plt.subplots(num,1,figsize=(18,16))\n",
    "plt.suptitle(\"Distribution of Transformed Numerical Features\",fontsize=20,weight='bold')\n",
    "for i,col in enumerate(new_numerical_features):\n",
    "    sns.histplot(x=X_copy[col],ax=ax[i])\n",
    "    ax[i].set_xlabel(col,fontsize=14,weight='bold')\n",
    "    ax[i].set_ylabel('Count',fontsize=14,weight='bold')\n",
    "\n",
    "plt.tight_layout()\n",
    "plt.show()"
   ]
  },
  {
   "cell_type": "markdown",
   "id": "961fdc15",
   "metadata": {},
   "source": [
    "#### Check the Transformed Column from non-normalized to normalized distribution"
   ]
  },
  {
   "cell_type": "code",
   "execution_count": 79,
   "id": "616c2110",
   "metadata": {},
   "outputs": [
    {
     "data": {
      "text/plain": [
       "no_of_employees    0.399339\n",
       "company_age        0.112260\n",
       "dtype: float64"
      ]
     },
     "execution_count": 79,
     "metadata": {},
     "output_type": "execute_result"
    }
   ],
   "source": [
    "X_copy[new_numerical_features].skew()"
   ]
  },
  {
   "cell_type": "markdown",
   "id": "fa275de5",
   "metadata": {},
   "source": [
    "- Number of employees and company age asymmetric columns are transformed into symmertic curve nature by performing squishing and stretch way."
   ]
  },
  {
   "cell_type": "code",
   "execution_count": 80,
   "metadata": {},
   "outputs": [
    {
     "name": "stdout",
     "output_type": "stream",
     "text": [
      "Number of unique features into Categorical Columns:\n",
      "continent:6\n",
      "------------------------------------------------------------------------------------------------------------------------------------------------------\n",
      "['Asia' 'Africa' 'North America' 'Europe' 'South America' 'Oceania']\n",
      "******************************************************************************************************************************************************\n",
      "education_of_employee:4\n",
      "------------------------------------------------------------------------------------------------------------------------------------------------------\n",
      "['High School' \"Master's\" \"Bachelor's\" 'Doctorate']\n",
      "******************************************************************************************************************************************************\n",
      "has_job_experience:2\n",
      "------------------------------------------------------------------------------------------------------------------------------------------------------\n",
      "['N' 'Y']\n",
      "******************************************************************************************************************************************************\n",
      "requires_job_training:2\n",
      "------------------------------------------------------------------------------------------------------------------------------------------------------\n",
      "['N' 'Y']\n",
      "******************************************************************************************************************************************************\n",
      "region_of_employment:5\n",
      "------------------------------------------------------------------------------------------------------------------------------------------------------\n",
      "['West' 'Northeast' 'South' 'Midwest' 'Island']\n",
      "******************************************************************************************************************************************************\n",
      "unit_of_wage:4\n",
      "------------------------------------------------------------------------------------------------------------------------------------------------------\n",
      "['Hour' 'Year' 'Week' 'Month']\n",
      "******************************************************************************************************************************************************\n",
      "full_time_position:2\n",
      "------------------------------------------------------------------------------------------------------------------------------------------------------\n",
      "['Y' 'N']\n",
      "******************************************************************************************************************************************************\n",
      "case_status:2\n",
      "------------------------------------------------------------------------------------------------------------------------------------------------------\n",
      "['Denied' 'Certified']\n",
      "******************************************************************************************************************************************************\n"
     ]
    }
   ],
   "source": [
    "print(\"Number of unique features into Categorical Columns:\")\n",
    "for features in categorical_features:\n",
    "    print(str(features+\":\"+str(df2[features].nunique())))\n",
    "    print(\"---\"*50)\n",
    "    print(str(df2[features].unique()))\n",
    "    print(\"***\"*50)"
   ]
  },
  {
   "cell_type": "markdown",
   "id": "312ce05d",
   "metadata": {},
   "source": [
    "#### 6. Feature encoding and Scaling\n",
    "\n",
    "**Why to perform Feature encoding ?**\n",
    "Machine learning algorithm cannot understand string data so they need to be converted into numerical form.So we use feature encoding to convert it.Some Models like tree based has that ability.\n",
    "\n",
    "Categorical Variables are of two form :\n",
    "1. Nominal Variable/Features : These variable are category values like Gender,Color,City.Which cannot be measured in math comparsion red>blue and it also doesnot have any order.For this variables we only use **one hot encoding** most perferd.what it does is keeps categories indepedent by creating binary columns.we can use label encoding but linear model tends to assume it be order and confuse the model like red>blue if Tree based model are used then it most perferd.\n",
    "2. Ordinal Variable/Features : These variable has meaningful order,but the distance between them isn't fixed.It preserves order.examples : education,ratings,shirt size,class divisions. we use ordinal encoding or label encoding (one hot encoding vice versa).\n",
    "\n",
    "\n",
    "**what is Feature Scaling?**\n",
    "- Some features may have larger values or different units of measurment or encoding value while other may have small values that makes model computation costly and model get baised so what we do we put all the features onto a scale so the model doesnot get biased.\n",
    "\n",
    "\n",
    "1. Normalization: it known as min max scaler which scale the value to 0 to 1 range.Here the data is rescaled just shift and scale.It doesnot care about distribution like skewed,uniform or any type of distribution.\n",
    "\n",
    "2. Standardization : It scales values with mean = 0 and std = 1 .It assumes that data is roughly symmetric or nearly symmertic.\n",
    "\n",
    "3. Robust Scaler: Useful when  data contains outlier beacause it is robust to extreme values it uses median and IQR instead of mean and std.\n"
   ]
  },
  {
   "cell_type": "code",
   "execution_count": 81,
   "id": "b8813a12",
   "metadata": {},
   "outputs": [
    {
     "data": {
      "text/plain": [
       "['no_of_employees', 'prevailing_wage', 'company_age']"
      ]
     },
     "execution_count": 81,
     "metadata": {},
     "output_type": "execute_result"
    }
   ],
   "source": [
    "numerical_features = list(X.select_dtypes(exclude='object').columns)\n",
    "numerical_features"
   ]
  },
  {
   "cell_type": "markdown",
   "id": "32b8fa0b",
   "metadata": {},
   "source": [
    "#### 6.1 Column Transformer"
   ]
  },
  {
   "cell_type": "markdown",
   "id": "261aeb9a",
   "metadata": {},
   "source": [
    "- Nominal/Binary : has_job_experience, requires_job_training , full_time_position\n",
    "- Ordinal : continent , unit of wage , region_of_employment , education_of_employee\n",
    "- Transformed : no_of_employees , company_age\n",
    "\n"
   ]
  },
  {
   "cell_type": "code",
   "execution_count": 82,
   "id": "9b0145f1",
   "metadata": {},
   "outputs": [],
   "source": [
    "Nominal_columns = ['has_job_experience', 'requires_job_training' , 'full_time_position']\n",
    "Ordinal_columns = ['continent' , 'unit_of_wage' , 'region_of_employment','education_of_employee' ]\n",
    "Transformed_columns = ['no_of_employees','company_age']\n",
    "\n",
    "#nominal columns - one hot encoder\n",
    "#oridnal columns - ordinal encoder\n",
    "from sklearn.preprocessing import OneHotEncoder,OrdinalEncoder,PowerTransformer,StandardScaler\n",
    "from sklearn.compose import ColumnTransformer\n",
    "from sklearn.pipeline import Pipeline\n",
    "\n",
    "std_scr = StandardScaler()\n",
    "one_enc = OneHotEncoder()\n",
    "ord_enc = OrdinalEncoder()\n",
    "\n",
    "transformer_pipeline = Pipeline(steps=[('transformer',PowerTransformer(method='yeo-johnson'))])\n",
    "Preprocessor = ColumnTransformer(\n",
    "    [\n",
    "        ('one hot encoder',one_enc,Ordinal_columns),\n",
    "        ('ordinal encoder',ord_enc,Ordinal_columns),\n",
    "        ('power transformer',transformer_pipeline,Transformed_columns),\n",
    "        ('standard scaler',std_scr,numerical_features)\n",
    "    ]\n",
    ")"
   ]
  },
  {
   "cell_type": "code",
   "execution_count": 83,
   "id": "a713bb90",
   "metadata": {},
   "outputs": [],
   "source": [
    "X = Preprocessor.fit_transform(X)"
   ]
  },
  {
   "cell_type": "code",
   "execution_count": 84,
   "id": "c988e0c6",
   "metadata": {},
   "outputs": [
    {
     "data": {
      "text/plain": [
       "(25480, 28)"
      ]
     },
     "execution_count": 84,
     "metadata": {},
     "output_type": "execute_result"
    }
   ],
   "source": [
    "X.shape"
   ]
  },
  {
   "cell_type": "code",
   "execution_count": 85,
   "id": "26162acf",
   "metadata": {},
   "outputs": [
    {
     "data": {
      "text/plain": [
       "array([[ 0.        ,  1.        ,  0.        , ...,  0.38666657,\n",
       "        -1.39853722, -0.65122993],\n",
       "       [ 0.        ,  1.        ,  0.        , ..., -0.14228155,\n",
       "         0.1698353 , -0.53321103],\n",
       "       [ 0.        ,  1.        ,  0.        , ...,  1.69498375,\n",
       "         0.91907852, -0.6748337 ],\n",
       "       ...,\n",
       "       [ 0.        ,  1.        ,  0.        , ..., -0.19871259,\n",
       "         1.36027953,  1.63833662],\n",
       "       [ 0.        ,  1.        ,  0.        , ..., -0.16387483,\n",
       "         0.22150859,  2.18122353],\n",
       "       [ 0.        ,  1.        ,  0.        , ..., -0.10805575,\n",
       "        -0.06776315,  0.45814768]], shape=(25480, 28))"
      ]
     },
     "execution_count": 85,
     "metadata": {},
     "output_type": "execute_result"
    }
   ],
   "source": [
    "X"
   ]
  },
  {
   "cell_type": "markdown",
   "id": "21ea4bd7",
   "metadata": {},
   "source": [
    "#### 7. Imbalanced Data Handling:"
   ]
  },
  {
   "cell_type": "code",
   "execution_count": 86,
   "id": "9c7a280d",
   "metadata": {},
   "outputs": [],
   "source": [
    "from imblearn.combine import SMOTEENN,SMOTETomek\n",
    "\n",
    "# Resampling the minority class. The strategy can be changed as required we will use smoteeen but it can change.\n",
    "smt = SMOTEENN(random_state=42,sampling_strategy='minority')\n",
    "X_res,y_res = smt.fit_resample(X,y)"
   ]
  },
  {
   "cell_type": "code",
   "execution_count": 87,
   "id": "5320cbda",
   "metadata": {},
   "outputs": [
    {
     "data": {
      "text/plain": [
       "((15350, 28), (15350,))"
      ]
     },
     "execution_count": 87,
     "metadata": {},
     "output_type": "execute_result"
    }
   ],
   "source": [
    "X_res.shape,y_res.shape"
   ]
  },
  {
   "cell_type": "markdown",
   "id": "8b6dd06a",
   "metadata": {},
   "source": [
    "#### 8. Train Test Split\n",
    "\n",
    "- Train test split procedure is used to estimate the performance of machine learning algorithm when they are used to make predictions on data not used to train.\n",
    "- It makes model training on train data and make prediction on test data.\n",
    "- It is a fast and easy procedure to perform, the results of which allow you to compare the performance of machine learning algorithm."
   ]
  },
  {
   "cell_type": "code",
   "execution_count": 88,
   "id": "b60b62c8",
   "metadata": {},
   "outputs": [
    {
     "data": {
      "text/plain": [
       "((12280, 28), (3070, 28))"
      ]
     },
     "execution_count": 88,
     "metadata": {},
     "output_type": "execute_result"
    }
   ],
   "source": [
    "from sklearn.model_selection import train_test_split\n",
    "\n",
    "X_train,X_test,y_train,y_test = train_test_split(X_res,y_res,test_size=0.2,random_state=42)\n",
    "X_train.shape,X_test.shape  "
   ]
  },
  {
   "cell_type": "code",
   "execution_count": 89,
   "id": "d355bc0f",
   "metadata": {},
   "outputs": [],
   "source": [
    "from sklearn.ensemble import RandomForestClassifier,AdaBoostClassifier,GradientBoostingClassifier\n",
    "from sklearn.linear_model import LogisticRegression\n",
    "from sklearn.neighbors import KNeighborsClassifier\n",
    "from sklearn.tree import DecisionTreeClassifier\n",
    "from sklearn.svm import SVC\n",
    "from sklearn.metrics import accuracy_score,classification_report,ConfusionMatrixDisplay, \\\n",
    "                            precision_score,recall_score,f1_score,roc_auc_score,roc_curve\n",
    "from xgboost import XGBClassifier\n",
    "from catboost import CatBoostClassifier"
   ]
  },
  {
   "cell_type": "code",
   "execution_count": 90,
   "metadata": {},
   "outputs": [],
   "source": [
    "def evaluate_clf(true,prediction):\n",
    "    acc = accuracy_score(true,prediction)\n",
    "    f1 = f1_score(true,prediction)\n",
    "    precision = precision_score(true,prediction)\n",
    "    recall = recall_score(true,prediction)\n",
    "    roc_auc = roc_auc_score(true,prediction)\n",
    "    return acc,f1,precision,recall,roc_auc"
   ]
  },
  {
   "cell_type": "code",
   "execution_count": 91,
   "id": "35fcc1c6",
   "metadata": {},
   "outputs": [],
   "source": [
    "models = {\n",
    "    'Random Forest Classifier': RandomForestClassifier(),\n",
    "    'Decision Tree Classifier': DecisionTreeClassifier(),\n",
    "    'Gradient Boosting Classifier': GradientBoostingClassifier(),\n",
    "    'Logistic Regression Classifier': LogisticRegression(),\n",
    "    'K-Neighbors Classifier': KNeighborsClassifier(),\n",
    "    'XGBClassifier': XGBClassifier(),\n",
    "    'CatBossting Classifier': CatBoostClassifier(verbose=False),\n",
    "    'Support Vector Classifier': SVC(),\n",
    "    'AdaBoost Classifier': AdaBoostClassifier()\n",
    "}"
   ]
  },
  {
   "cell_type": "code",
   "execution_count": 92,
   "id": "066fcf83",
   "metadata": {},
   "outputs": [],
   "source": [
    "def evaluate_models(X,y,models):\n",
    "    X_train,X_test,y_train,y_test = train_test_split(X,y,test_size=0.2,random_state=42)\n",
    "    models_list = []\n",
    "    accuracy_list = []\n",
    "    auc = []\n",
    "\n",
    "    for i in range(len(list(models))):\n",
    "        model = list(models.values())[i]\n",
    "        model.fit(X_train,y_train)\n",
    "\n",
    "        y_train_pred = model.predict(X_train)\n",
    "        y_test_pred = model.predict(X_test)\n",
    "\n",
    "        model_train_accuracy,model_train_f1,model_train_precision,\\\n",
    "        model_train_recall,model_train_rocauc_score = evaluate_clf(y_train,y_train_pred)\n",
    "\n",
    "        model_test_accuracy,model_test_f1,model_test_precision,\\\n",
    "        model_test_recall,model_test_rocauc_score = evaluate_clf(y_test,y_test_pred)\n",
    "\n",
    "        print(list(models.keys())[i])\n",
    "        models_list.append(list(models.keys())[i])\n",
    "\n",
    "        print(\"Model Training for Training set\")\n",
    "        print(\"- Accuracy: {:.4f}\".format(model_train_accuracy))\n",
    "        print(\"- F1 Score: {:.4f}\".format(model_train_f1))\n",
    "        print(\"- Precision: {:.4f}\".format(model_train_precision))\n",
    "        print(\"- Recall: {:.4f}\".format(model_train_recall))\n",
    "        print(\"- ROC AUC: {:.4f}\".format(model_train_rocauc_score))\n",
    "\n",
    "        print(\"--\"*50)\n",
    "\n",
    "        print(\"Model performance for Testining set\")\n",
    "        print(\"- Accuracy: {:.4f}\".format(model_test_accuracy))\n",
    "        accuracy_list.append(model_test_accuracy)\n",
    "        print(\"- F1 Score: {:.4f}\".format(model_test_f1))\n",
    "        print(\"- Precision: {:.4f}\".format(model_test_precision))\n",
    "        print(\"- Recall: {:.4f}\".format(model_test_recall))\n",
    "        print(\"- ROC AUC: {:.4f}\".format(model_test_rocauc_score))\n",
    "        auc.append(model_test_rocauc_score)\n",
    "        print(\"==\"*35)\n",
    "        print(\"\\n\")\n",
    "\n",
    "    report = pd.DataFrame(list(zip(models_list,accuracy_list)),columns=['Model Name','Accuracy']).sort_values(by=['Accuracy'],ascending=False)\n",
    "    return report;    \n"
   ]
  },
  {
   "cell_type": "markdown",
   "id": "9cd0ec78",
   "metadata": {},
   "source": [
    "#### Model Training:"
   ]
  },
  {
   "cell_type": "code",
   "execution_count": 93,
   "id": "6dfbb920",
   "metadata": {},
   "outputs": [
    {
     "name": "stdout",
     "output_type": "stream",
     "text": [
      "Random Forest Classifier\n",
      "Model Training for Training set\n",
      "- Accuracy: 1.0000\n",
      "- F1 Score: 1.0000\n",
      "- Precision: 1.0000\n",
      "- Recall: 1.0000\n",
      "- ROC AUC: 1.0000\n",
      "----------------------------------------------------------------------------------------------------\n",
      "Model performance for Testining set\n",
      "- Accuracy: 0.9368\n",
      "- F1 Score: 0.9428\n",
      "- Precision: 0.9356\n",
      "- Recall: 0.9501\n",
      "- ROC AUC: 0.9354\n",
      "======================================================================\n",
      "\n",
      "\n",
      "Decision Tree Classifier\n",
      "Model Training for Training set\n",
      "- Accuracy: 1.0000\n",
      "- F1 Score: 1.0000\n",
      "- Precision: 1.0000\n",
      "- Recall: 1.0000\n",
      "- ROC AUC: 1.0000\n",
      "----------------------------------------------------------------------------------------------------\n",
      "Model performance for Testining set\n",
      "- Accuracy: 0.9042\n",
      "- F1 Score: 0.9139\n",
      "- Precision: 0.9012\n",
      "- Recall: 0.9269\n",
      "- ROC AUC: 0.9018\n",
      "======================================================================\n",
      "\n",
      "\n",
      "Gradient Boosting Classifier\n",
      "Model Training for Training set\n",
      "- Accuracy: 0.8722\n",
      "- F1 Score: 0.8831\n",
      "- Precision: 0.8910\n",
      "- Recall: 0.8754\n",
      "- ROC AUC: 0.8719\n",
      "----------------------------------------------------------------------------------------------------\n",
      "Model performance for Testining set\n",
      "- Accuracy: 0.8691\n",
      "- F1 Score: 0.8795\n",
      "- Precision: 0.8875\n",
      "- Recall: 0.8717\n",
      "- ROC AUC: 0.8688\n",
      "======================================================================\n",
      "\n",
      "\n",
      "Logistic Regression Classifier\n",
      "Model Training for Training set\n",
      "- Accuracy: 0.8524\n",
      "- F1 Score: 0.8636\n",
      "- Precision: 0.8810\n",
      "- Recall: 0.8469\n",
      "- ROC AUC: 0.8531\n",
      "----------------------------------------------------------------------------------------------------\n",
      "Model performance for Testining set\n",
      "- Accuracy: 0.8590\n",
      "- F1 Score: 0.8687\n",
      "- Precision: 0.8872\n",
      "- Recall: 0.8509\n",
      "- ROC AUC: 0.8598\n",
      "======================================================================\n",
      "\n",
      "\n",
      "K-Neighbors Classifier\n",
      "Model Training for Training set\n",
      "- Accuracy: 0.9580\n",
      "- F1 Score: 0.9623\n",
      "- Precision: 0.9523\n",
      "- Recall: 0.9725\n",
      "- ROC AUC: 0.9563\n",
      "----------------------------------------------------------------------------------------------------\n",
      "Model performance for Testining set\n",
      "- Accuracy: 0.9319\n",
      "- F1 Score: 0.9389\n",
      "- Precision: 0.9241\n",
      "- Recall: 0.9542\n",
      "- ROC AUC: 0.9295\n",
      "======================================================================\n",
      "\n",
      "\n",
      "XGBClassifier\n",
      "Model Training for Training set\n",
      "- Accuracy: 0.9621\n",
      "- F1 Score: 0.9656\n",
      "- Precision: 0.9656\n",
      "- Recall: 0.9656\n",
      "- ROC AUC: 0.9616\n",
      "----------------------------------------------------------------------------------------------------\n",
      "Model performance for Testining set\n",
      "- Accuracy: 0.9117\n",
      "- F1 Score: 0.9202\n",
      "- Precision: 0.9119\n",
      "- Recall: 0.9287\n",
      "- ROC AUC: 0.9099\n",
      "======================================================================\n",
      "\n",
      "\n",
      "CatBossting Classifier\n",
      "Model Training for Training set\n",
      "- Accuracy: 0.9401\n",
      "- F1 Score: 0.9458\n",
      "- Precision: 0.9429\n",
      "- Recall: 0.9488\n",
      "- ROC AUC: 0.9391\n",
      "----------------------------------------------------------------------------------------------------\n",
      "Model performance for Testining set\n",
      "- Accuracy: 0.9104\n",
      "- F1 Score: 0.9184\n",
      "- Precision: 0.9171\n",
      "- Recall: 0.9198\n",
      "- ROC AUC: 0.9094\n",
      "======================================================================\n",
      "\n",
      "\n",
      "Support Vector Classifier\n",
      "Model Training for Training set\n",
      "- Accuracy: 0.8564\n",
      "- F1 Score: 0.8684\n",
      "- Precision: 0.8773\n",
      "- Recall: 0.8597\n",
      "- ROC AUC: 0.8560\n",
      "----------------------------------------------------------------------------------------------------\n",
      "Model performance for Testining set\n",
      "- Accuracy: 0.8583\n",
      "- F1 Score: 0.8690\n",
      "- Precision: 0.8810\n",
      "- Recall: 0.8574\n",
      "- ROC AUC: 0.8584\n",
      "======================================================================\n",
      "\n",
      "\n",
      "AdaBoost Classifier\n",
      "Model Training for Training set\n",
      "- Accuracy: 0.8479\n",
      "- F1 Score: 0.8586\n",
      "- Precision: 0.8810\n",
      "- Recall: 0.8373\n",
      "- ROC AUC: 0.8491\n",
      "----------------------------------------------------------------------------------------------------\n",
      "Model performance for Testining set\n",
      "- Accuracy: 0.8521\n",
      "- F1 Score: 0.8623\n",
      "- Precision: 0.8805\n",
      "- Recall: 0.8449\n",
      "- ROC AUC: 0.8529\n",
      "======================================================================\n",
      "\n",
      "\n"
     ]
    }
   ],
   "source": [
    "base_model_report = evaluate_models(X_res,y_res,models=models)"
   ]
  },
  {
   "cell_type": "code",
   "execution_count": 94,
   "id": "b717fb9b",
   "metadata": {},
   "outputs": [
    {
     "data": {
      "text/html": [
       "<div>\n",
       "<style scoped>\n",
       "    .dataframe tbody tr th:only-of-type {\n",
       "        vertical-align: middle;\n",
       "    }\n",
       "\n",
       "    .dataframe tbody tr th {\n",
       "        vertical-align: top;\n",
       "    }\n",
       "\n",
       "    .dataframe thead th {\n",
       "        text-align: right;\n",
       "    }\n",
       "</style>\n",
       "<table border=\"1\" class=\"dataframe\">\n",
       "  <thead>\n",
       "    <tr style=\"text-align: right;\">\n",
       "      <th></th>\n",
       "      <th>Model Name</th>\n",
       "      <th>Accuracy</th>\n",
       "    </tr>\n",
       "  </thead>\n",
       "  <tbody>\n",
       "    <tr>\n",
       "      <th>0</th>\n",
       "      <td>Random Forest Classifier</td>\n",
       "      <td>0.936808</td>\n",
       "    </tr>\n",
       "    <tr>\n",
       "      <th>4</th>\n",
       "      <td>K-Neighbors Classifier</td>\n",
       "      <td>0.931922</td>\n",
       "    </tr>\n",
       "    <tr>\n",
       "      <th>5</th>\n",
       "      <td>XGBClassifier</td>\n",
       "      <td>0.911726</td>\n",
       "    </tr>\n",
       "    <tr>\n",
       "      <th>6</th>\n",
       "      <td>CatBossting Classifier</td>\n",
       "      <td>0.910423</td>\n",
       "    </tr>\n",
       "    <tr>\n",
       "      <th>1</th>\n",
       "      <td>Decision Tree Classifier</td>\n",
       "      <td>0.904235</td>\n",
       "    </tr>\n",
       "    <tr>\n",
       "      <th>2</th>\n",
       "      <td>Gradient Boosting Classifier</td>\n",
       "      <td>0.869055</td>\n",
       "    </tr>\n",
       "    <tr>\n",
       "      <th>3</th>\n",
       "      <td>Logistic Regression Classifier</td>\n",
       "      <td>0.858958</td>\n",
       "    </tr>\n",
       "    <tr>\n",
       "      <th>7</th>\n",
       "      <td>Support Vector Classifier</td>\n",
       "      <td>0.858306</td>\n",
       "    </tr>\n",
       "    <tr>\n",
       "      <th>8</th>\n",
       "      <td>AdaBoost Classifier</td>\n",
       "      <td>0.852117</td>\n",
       "    </tr>\n",
       "  </tbody>\n",
       "</table>\n",
       "</div>"
      ],
      "text/plain": [
       "                       Model Name  Accuracy\n",
       "0        Random Forest Classifier  0.936808\n",
       "4          K-Neighbors Classifier  0.931922\n",
       "5                   XGBClassifier  0.911726\n",
       "6          CatBossting Classifier  0.910423\n",
       "1        Decision Tree Classifier  0.904235\n",
       "2    Gradient Boosting Classifier  0.869055\n",
       "3  Logistic Regression Classifier  0.858958\n",
       "7       Support Vector Classifier  0.858306\n",
       "8             AdaBoost Classifier  0.852117"
      ]
     },
     "execution_count": 94,
     "metadata": {},
     "output_type": "execute_result"
    }
   ],
   "source": [
    "base_model_report"
   ]
  },
  {
   "cell_type": "markdown",
   "id": "492f6f8c",
   "metadata": {},
   "source": [
    "#### Hyper Paramater Tuning:"
   ]
  },
  {
   "cell_type": "code",
   "execution_count": 95,
   "metadata": {},
   "outputs": [],
   "source": [
    "xgboost_params={\n",
    "    'max_depth':range(3,10,2),\n",
    "    'min_child_weight':range(1,6,2)\n",
    "}\n",
    "\n",
    "rf_params={\n",
    "    'max_depth':[10,12,None,14,15],\n",
    "    'max_features':['sqrt','log2',None],\n",
    "    'n_estimators':[10,50,100,200]\n",
    "}\n",
    "\n",
    "knn_params = {\n",
    "    'algorithm':['auto','balltree','kd_tree','brute'],\n",
    "    'weights':['uniform','distance'],\n",
    "    'n_neighbors':[3,4,5,7,9]\n",
    "}"
   ]
  },
  {
   "cell_type": "code",
   "execution_count": 96,
   "id": "d06c04df",
   "metadata": {},
   "outputs": [],
   "source": [
    "randomcv_model = [\n",
    "    ('XGBoost',XGBClassifier(),xgboost_params),\n",
    "    ('RF',RandomForestClassifier(),rf_params),\n",
    "    ('KNN',KNeighborsClassifier(),knn_params)\n",
    "]"
   ]
  },
  {
   "cell_type": "code",
   "execution_count": 98,
   "metadata": {},
   "outputs": [
    {
     "name": "stdout",
     "output_type": "stream",
     "text": [
      "Fitting 3 folds for each of 12 candidates, totalling 36 fits\n",
      "Fitting 3 folds for each of 60 candidates, totalling 180 fits\n",
      "Fitting 3 folds for each of 40 candidates, totalling 120 fits\n",
      "-----------Best params for XGBoost----------\n",
      "{'min_child_weight': 1, 'max_depth': 9}\n",
      "-----------Best params for RF----------\n",
      "{'n_estimators': 100, 'max_features': 'log2', 'max_depth': None}\n",
      "-----------Best params for KNN----------\n",
      "{'weights': 'distance', 'n_neighbors': 3, 'algorithm': 'auto'}\n"
     ]
    }
   ],
   "source": [
    "from sklearn.model_selection import RandomizedSearchCV\n",
    "\n",
    "model_params={}\n",
    "for name,model,params in randomcv_model:\n",
    "    random = RandomizedSearchCV(estimator=model,\n",
    "                       param_distributions=params,\n",
    "                       n_iter=100,\n",
    "                       cv=3,\n",
    "                       verbose=2,\n",
    "                       n_jobs=-1)\n",
    "    random.fit(X_res,y_res)\n",
    "    model_params[name]=random.best_params_\n",
    "\n",
    "for model_name in model_params:\n",
    "    print(f\"-----------Best params for {model_name}----------\")\n",
    "    print(model_params[model_name])"
   ]
  },
  {
   "cell_type": "code",
   "execution_count": 99,
   "id": "af9011f7",
   "metadata": {},
   "outputs": [
    {
     "data": {
      "text/plain": [
       "{'XGBoost': {'min_child_weight': 1, 'max_depth': 9},\n",
       " 'RF': {'n_estimators': 100, 'max_features': 'log2', 'max_depth': None},\n",
       " 'KNN': {'weights': 'distance', 'n_neighbors': 3, 'algorithm': 'auto'}}"
      ]
     },
     "execution_count": 99,
     "metadata": {},
     "output_type": "execute_result"
    }
   ],
   "source": [
    "model_params"
   ]
  },
  {
   "cell_type": "code",
   "execution_count": 100,
   "id": "0b4da4a1",
   "metadata": {},
   "outputs": [
    {
     "name": "stdout",
     "output_type": "stream",
     "text": [
      "Random Forest Classifier\n",
      "Model Training for Training set\n",
      "- Accuracy: 1.0000\n",
      "- F1 Score: 1.0000\n",
      "- Precision: 1.0000\n",
      "- Recall: 1.0000\n",
      "- ROC AUC: 1.0000\n",
      "----------------------------------------------------------------------------------------------------\n",
      "Model performance for Testining set\n",
      "- Accuracy: 0.9362\n",
      "- F1 Score: 0.9424\n",
      "- Precision: 0.9320\n",
      "- Recall: 0.9531\n",
      "- ROC AUC: 0.9344\n",
      "======================================================================\n",
      "\n",
      "\n",
      "KNeighborsClassifier\n",
      "Model Training for Training set\n",
      "- Accuracy: 1.0000\n",
      "- F1 Score: 1.0000\n",
      "- Precision: 1.0000\n",
      "- Recall: 1.0000\n",
      "- ROC AUC: 1.0000\n",
      "----------------------------------------------------------------------------------------------------\n",
      "Model performance for Testining set\n",
      "- Accuracy: 0.9694\n",
      "- F1 Score: 0.9725\n",
      "- Precision: 0.9585\n",
      "- Recall: 0.9869\n",
      "- ROC AUC: 0.9675\n",
      "======================================================================\n",
      "\n",
      "\n",
      "XGBClassifier\n",
      "Model Training for Training set\n",
      "- Accuracy: 0.9976\n",
      "- F1 Score: 0.9978\n",
      "- Precision: 0.9969\n",
      "- Recall: 0.9987\n",
      "- ROC AUC: 0.9974\n",
      "----------------------------------------------------------------------------------------------------\n",
      "Model performance for Testining set\n",
      "- Accuracy: 0.9277\n",
      "- F1 Score: 0.9346\n",
      "- Precision: 0.9264\n",
      "- Recall: 0.9430\n",
      "- ROC AUC: 0.9261\n",
      "======================================================================\n",
      "\n",
      "\n"
     ]
    }
   ],
   "source": [
    "from sklearn.metrics import roc_auc_score,roc_curve\n",
    "best_models = {\n",
    "    'Random Forest Classifier':RandomForestClassifier(**model_params['RF']),\n",
    "    'KNeighborsClassifier':KNeighborsClassifier(**model_params['KNN']),\n",
    "    'XGBClassifier':XGBClassifier(**model_params['XGBoost'],n_jobs=-1),\n",
    "}\n",
    "\n",
    "tuned_report = evaluate_models(X=X_res,y=y_res,models=best_models)"
   ]
  },
  {
   "cell_type": "code",
   "execution_count": 101,
   "id": "355c9cc5",
   "metadata": {},
   "outputs": [
    {
     "data": {
      "text/html": [
       "<div>\n",
       "<style scoped>\n",
       "    .dataframe tbody tr th:only-of-type {\n",
       "        vertical-align: middle;\n",
       "    }\n",
       "\n",
       "    .dataframe tbody tr th {\n",
       "        vertical-align: top;\n",
       "    }\n",
       "\n",
       "    .dataframe thead th {\n",
       "        text-align: right;\n",
       "    }\n",
       "</style>\n",
       "<table border=\"1\" class=\"dataframe\">\n",
       "  <thead>\n",
       "    <tr style=\"text-align: right;\">\n",
       "      <th></th>\n",
       "      <th>Model Name</th>\n",
       "      <th>Accuracy</th>\n",
       "    </tr>\n",
       "  </thead>\n",
       "  <tbody>\n",
       "    <tr>\n",
       "      <th>1</th>\n",
       "      <td>KNeighborsClassifier</td>\n",
       "      <td>0.969381</td>\n",
       "    </tr>\n",
       "    <tr>\n",
       "      <th>0</th>\n",
       "      <td>Random Forest Classifier</td>\n",
       "      <td>0.936156</td>\n",
       "    </tr>\n",
       "    <tr>\n",
       "      <th>2</th>\n",
       "      <td>XGBClassifier</td>\n",
       "      <td>0.927687</td>\n",
       "    </tr>\n",
       "  </tbody>\n",
       "</table>\n",
       "</div>"
      ],
      "text/plain": [
       "                 Model Name  Accuracy\n",
       "1      KNeighborsClassifier  0.969381\n",
       "0  Random Forest Classifier  0.936156\n",
       "2             XGBClassifier  0.927687"
      ]
     },
     "execution_count": 101,
     "metadata": {},
     "output_type": "execute_result"
    }
   ],
   "source": [
    "tuned_report"
   ]
  },
  {
   "cell_type": "code",
   "execution_count": 106,
   "id": "24bb9c9a",
   "metadata": {},
   "outputs": [
    {
     "name": "stdout",
     "output_type": "stream",
     "text": [
      "Final Model KNN\n",
      "Accuaracy Score Values:0.9694\n",
      "              precision    recall  f1-score   support\n",
      "\n",
      "           0       0.98      0.95      0.97      1387\n",
      "           1       0.96      0.99      0.97      1683\n",
      "\n",
      "    accuracy                           0.97      3070\n",
      "   macro avg       0.97      0.97      0.97      3070\n",
      "weighted avg       0.97      0.97      0.97      3070\n",
      "\n"
     ]
    }
   ],
   "source": [
    "best_model = KNeighborsClassifier(**model_params['KNN'])\n",
    "best_model = best_model.fit(X_train,y_train)\n",
    "y_pred = best_model.predict(X_test)\n",
    "score = accuracy_score(y_test,y_pred)\n",
    "cr = classification_report(y_test,y_pred)\n",
    "\n",
    "print(\"Final Model KNN\")\n",
    "print(\"Accuaracy Score Values:{:.4f}\".format(score))\n",
    "print(cr)"
   ]
  },
  {
   "cell_type": "code",
   "execution_count": 107,
   "id": "a91bf2ee",
   "metadata": {},
   "outputs": [
    {
     "data": {
      "text/plain": [
       "<sklearn.metrics._plot.confusion_matrix.ConfusionMatrixDisplay at 0x26f66c95310>"
      ]
     },
     "execution_count": 107,
     "metadata": {},
     "output_type": "execute_result"
    },
    {
     "data": {
      "image/png": "[encoded data removed]",
      "text/plain": [
       "<Figure size 640x480 with 2 Axes>"
      ]
     },
     "metadata": {},
     "output_type": "display_data"
    }
   ],
   "source": [
    "from sklearn.metrics import ConfusionMatrixDisplay\n",
    "ConfusionMatrixDisplay.from_estimator(best_model,X_test,y_test)"
   ]
  },
  {
   "cell_type": "markdown",
   "id": "645b291b",
   "metadata": {},
   "source": [
    "#### Best Model is KNN with Accuracy of 96.93%"
   ]
  }
 ],
 "metadata": {
  "kernelspec": {
   "display_name": "visa",
   "language": "python",
   "name": "python3"
  },
  "language_info": {
   "codemirror_mode": {
    "name": "ipython",
    "version": 3
   },
   "file_extension": ".py",
   "mimetype": "text/x-python",
   "name": "python",
   "nbconvert_exporter": "python",
   "pygments_lexer": "ipython3",
   "version": "3.12.7"
  }
 },
 "nbformat": 4,
 "nbformat_minor": 5
}
